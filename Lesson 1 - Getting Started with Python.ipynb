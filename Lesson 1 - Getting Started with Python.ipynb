{
 "cells": [
  {
   "cell_type": "markdown",
   "id": "c69f831b",
   "metadata": {},
   "source": [
    "# Learn Python Fast\n",
    "## Lesson 1:  Getting Started with Python\n",
    "### Abstract\n",
    "\n",
    "Welcome to Learn Python Fast, Lesson 1: Getting Started with Python! This lesson (and, indeed, all the lessons in this training) is intended as a gentle, hands-on introduction to Python for people with little to no experience in object-oriented programming. We'll begin today by learning a bit about how to interact with Python. This lesson is necessarily (and unavoidably) on the long side -- so long, in fact, it had to be split in two. A lot of vocabulary will be introduced, which I try to highlight by **boldfacing** anything that's important to learn; don't worry if it's all a bit much, as there's a vocabulary section at the end, and you'll learn a lot by immersion."
   ]
  },
  {
   "cell_type": "markdown",
   "id": "f357a6d6",
   "metadata": {},
   "source": [
    "### Lesson 1a: A Brief Introduction to Python\n",
    "#### What is a Programming Language?\n",
    "\n",
    "Python is a programming language.\n",
    "\n",
    "What is a language? It's a set of rules or principles governing communication between two or more entities (in this case, between you and your computer). Like any language, Python has nouns (things), verbs (actions you do to things), adverbs (describing the way nouns are verbed), and the like. Also like any language, learning Python takes a bit of time and immersion. You won't get it all right away, so be patient with yourself.\n",
    "\n",
    "Unlike most of what we think of as languages, Python (and, indeed, most computer languages) actually has a fairly limited vocabulary. That means you don't need to learn much to start being able to do useful things with it.\n",
    "\n",
    "Also unlike most languages, Python has no ambiguity (as far as the computer is concerned); the computer cannot misunderstand or misinterpret you. If you get an error, it's because you got something wrong. Fortunately, Python gives error messages when that happens, giving you an idea of what you might have done wrong and how to fix it.\n",
    "\n",
    "Finally, unlike most languages, Python has only one mood: the imperative. The entire language revolves around you giving instructions to your computer. And that's all a programming language is, fundamentally: a set of rules allowing you to communicate instructions to a computer.\n",
    "\n",
    "#### What is Python?\n",
    "\n",
    "Python, as I said, is a programming language. Specifically, it's an *object-oriented* programming (OOP) language.\n",
    "\n",
    "Other languages, like SQL, are said to be *declarative* languages, meaning that you tell the computer what you want to see without giving it detailed instructions about how to get it, and it does the rest. Still other languages are said to be *procedural* languages, where everything is thought about in terms of procedures that a computer executes. Python is *object-oriented* insofar as everything is conceived of as an **object**, that is, a structured data entity stored in a particular address in your computer's memory.\n",
    "\n",
    "Python is a handy programming language because it is, in the words of Van Lindberg, \"the second best language for everything\". For any given task, there's probably a better language for it than Python, but Python is so flexible, adaptable, intuitive, and easy to learn that it's easily the second best choice for any task. Learning Python is a great way to dip your toes into programming and decide if it's something about which you'd like to learn more."
   ]
  },
  {
   "cell_type": "markdown",
   "id": "aa698d1c",
   "metadata": {},
   "source": [
    "### Lesson 1b: Introduction to Functions, Objects, Classes, and Methods\n",
    "#### Functions\n",
    "\n",
    "There's an old superstition to the effect that if you start off your career in a new programming language by printing the message \"Hello world!\" to the console, you'll have good luck. Now, to quite Michael Scott, I'm not *super*stitious, but I am a *little* stitious, so let's get everyone started off on the right foot by doing exactly that. Click the cell below and click the \"Run\" button to print the message.\n",
    "\n",
    "Note that the contents of this cell of the workbook are \"Markdown\", equivalent to plain text in a Word document. The contents of the cell below are actually Python - when you run that cell, you are submitting code to Python's interpreter."
   ]
  },
  {
   "cell_type": "code",
   "execution_count": 1,
   "id": "e8b853c9",
   "metadata": {},
   "outputs": [
    {
     "name": "stdout",
     "output_type": "stream",
     "text": [
      "Hello world!\n"
     ]
    }
   ],
   "source": [
    "print(\"Hello world!\")"
   ]
  },
  {
   "cell_type": "markdown",
   "id": "bac67d70",
   "metadata": {},
   "source": [
    "Enjoy your good luck!\n",
    "\n",
    "In the line of code we just executed, *print()* is called a **function**. A Python function is simply a block of code that Python runs whenever the function is executed, or **called**.\n",
    "\n",
    "Whenever we call a function, we'll always name it with parentheses after, e.g., print(). A common beginner mistake with Python is to forego the parentheses, without which the function is not actually called but merely named.\n",
    "\n",
    "\"Hello world!\" is a called an **argument** to the function print(). An argument is a user-supplied input to a function that the function takes and with which it does something. Arguments are always supplied to a function within the parentheses that follow the function's name.\n",
    "\n",
    "In the above case, we called the print() function with the argument \"Hello world!\". Python took the argument, plugged it into the appropriate parts of the print() function, and caused it to execute, resulting in the argument \"Hello world!\" being printed to the console.\n",
    "\n",
    "Note that not all functions require arguments and, indeed, some won't accept any, but even if calling a function without any arguments, it's still necessary to include empty parentheses after the function's name. Let's see what happens if you call a function like print() without an argument, and then what happens if you name the function without parentheses after."
   ]
  },
  {
   "cell_type": "code",
   "execution_count": 2,
   "id": "36a7c51f",
   "metadata": {},
   "outputs": [
    {
     "name": "stdout",
     "output_type": "stream",
     "text": [
      "\n"
     ]
    }
   ],
   "source": [
    "# Calling print without arguments\n",
    "print()"
   ]
  },
  {
   "cell_type": "code",
   "execution_count": 3,
   "id": "43c4482a",
   "metadata": {},
   "outputs": [
    {
     "data": {
      "text/plain": [
       "<function print>"
      ]
     },
     "execution_count": 3,
     "metadata": {},
     "output_type": "execute_result"
    }
   ],
   "source": [
    "# Naming print without parentheses\n",
    "print"
   ]
  },
  {
   "cell_type": "markdown",
   "id": "54453b5a",
   "metadata": {},
   "source": [
    "The function print() does not require arguments: if it has no arguments, it will simply print a blank line, as happens in the first code block above. In the second code block above, naming the functon without parentheses simply refers to the function itself without calling it, resulting in the name and type of the *print* object being echoed to the console. There are some very few cases where you would want to refer to a function rather than call it, but the vast majority of the time, you'll want to call the function, and that means including parentheses.\n",
    "\n",
    "Also note, each of the two cells above begins with a comment, a short descriptive text describing what's going on in that cell. A comment always begins with a hashtag (#); wherever a hashtag appears, everything that occurs after it on the same line is treated as a comment, that is, as plain text, not Python code. If you want to temporarily disable a line of code without deleting it (because you might want to refer it to later, for instance), you might **comment it out** by placing a hashtag at the beginning of the line.\n",
    "\n",
    "#### Objects\n",
    "\n",
    "\"Hello world!\" is an example of what is called an *object* in Python. An object is simply an abstract programming construct representing some datum or collection of data. Indeed, just about everything in Python is conceived in terms of objects, for which reason Python is rightly called an object-oriented progrmaming language!.\n",
    "\n",
    "We can create objects any number of ways, but by far the most common way is by **assigment**, whereby we associate a value with an object name such that, as we do below."
   ]
  },
  {
   "cell_type": "code",
   "execution_count": 4,
   "id": "c3283e36",
   "metadata": {},
   "outputs": [
    {
     "name": "stdout",
     "output_type": "stream",
     "text": [
      "Hello world!\n"
     ]
    }
   ],
   "source": [
    "# assign \"Hello world!\" to an object called greeting, then print the object called greeting\n",
    "greeting = \"Hello world!\"\n",
    "print(greeting)"
   ]
  },
  {
   "cell_type": "markdown",
   "id": "19d58098",
   "metadata": {},
   "source": [
    "Above, we named a new object, then assigned \"Hello world!\" to that object using the assignment **operator** \"=\". (An operator is simply a special character which performs a certain kind of operation.) Then we supplied the object *greeting* to print() as a function. The results are the same as if we had simply called print(\"Hello world!\"). Effectively, rather than telling Python to print the message, we put the message in a box marked \"greeting\" and told Python to print whatever is inside that box.\n",
    "\n",
    "A quick note about object names: they must begin with alpha characters (letters \"a\" through \"z\", whether upper or lower case) or underscores. They cannot begin with other special characters, spaces, or numbers.\n",
    "\n",
    "The object *greeting* will persist in memory until we delete it or close the session. Thus, we can call print(greeting) again and get the same result, as we do below."
   ]
  },
  {
   "cell_type": "code",
   "execution_count": 31,
   "id": "07884ddf",
   "metadata": {},
   "outputs": [
    {
     "name": "stdout",
     "output_type": "stream",
     "text": [
      "Hello world!\n"
     ]
    }
   ],
   "source": [
    "# print the object called greeting again\n",
    "print(greeting)"
   ]
  },
  {
   "cell_type": "markdown",
   "id": "16b44073",
   "metadata": {},
   "source": [
    "At any time, you can change the value stored in an object by re-assigning it."
   ]
  },
  {
   "cell_type": "code",
   "execution_count": 6,
   "id": "7f20090f",
   "metadata": {},
   "outputs": [
    {
     "name": "stdout",
     "output_type": "stream",
     "text": [
      "Goodbye world!\n"
     ]
    }
   ],
   "source": [
    "# re-assign greeting and print its new contents\n",
    "greeting = \"Goodbye world!\"\n",
    "print(greeting)"
   ]
  },
  {
   "cell_type": "markdown",
   "id": "9b890a93",
   "metadata": {},
   "source": [
    "If you try to reference an object that doesn't yet exist and which you haven't defined, you'll get an error."
   ]
  },
  {
   "cell_type": "code",
   "execution_count": 7,
   "id": "327dc9a1",
   "metadata": {},
   "outputs": [
    {
     "ename": "NameError",
     "evalue": "name 'greeting_invalid' is not defined",
     "output_type": "error",
     "traceback": [
      "\u001b[1;31m---------------------------------------------------------------------------\u001b[0m",
      "\u001b[1;31mNameError\u001b[0m                                 Traceback (most recent call last)",
      "Cell \u001b[1;32mIn [7], line 2\u001b[0m\n\u001b[0;32m      1\u001b[0m \u001b[38;5;66;03m# print non-existent object\u001b[39;00m\n\u001b[1;32m----> 2\u001b[0m \u001b[38;5;28mprint\u001b[39m(\u001b[43mgreeting_invalid\u001b[49m)\n",
      "\u001b[1;31mNameError\u001b[0m: name 'greeting_invalid' is not defined"
     ]
    }
   ],
   "source": [
    "# print non-existent object\n",
    "print(greeting_invalid)"
   ]
  },
  {
   "cell_type": "markdown",
   "id": "edcba81b",
   "metadata": {},
   "source": [
    "When we tried to print *greeting_invalid*, an object we never defined, what gets printed to the console is an error message. An error is Python's way of telling us that something has gone terribly wrong in our code. Whenever Python encounters an error, it returns three things. The first is a **traceback**, telling you exactly (or as close to exactly as Python can get) what line of code raised the **error** (in this case, \"print(greeting_valid)\", specifically the *greeting_invalid* part). The second is the name of the error, in this case, NameError. The third is a short description of the error, telling us that the name of the object given, *greeting_invalid*, was not defined. In short, because we never defined *greeting_invalid*, Python raised a NameError when we tried to print it, because the name *greeting_invalid* is not one that Python recognizes as corresponding to anything stored in memory.\n",
    "\n",
    "We can use the \"del\" command (short for \"delete\") to erase an object from the computer's memory. A deleted object no longer exists, just the same as if it had never existed, as we see below. Note that commands, unlike functions, are not called with parentheses: you simply call the command, then a space, then the name of the relevant object."
   ]
  },
  {
   "cell_type": "code",
   "execution_count": 8,
   "id": "87117fb8",
   "metadata": {},
   "outputs": [
    {
     "ename": "NameError",
     "evalue": "name 'greeting' is not defined",
     "output_type": "error",
     "traceback": [
      "\u001b[1;31m---------------------------------------------------------------------------\u001b[0m",
      "\u001b[1;31mNameError\u001b[0m                                 Traceback (most recent call last)",
      "Cell \u001b[1;32mIn [8], line 4\u001b[0m\n\u001b[0;32m      1\u001b[0m \u001b[38;5;66;03m# delete the greeting object, then try to print it\u001b[39;00m\n\u001b[0;32m      2\u001b[0m \u001b[38;5;66;03m# we get a NameError again, just as if we did above\u001b[39;00m\n\u001b[0;32m      3\u001b[0m \u001b[38;5;28;01mdel\u001b[39;00m greeting\n\u001b[1;32m----> 4\u001b[0m \u001b[38;5;28mprint\u001b[39m(\u001b[43mgreeting\u001b[49m)\n",
      "\u001b[1;31mNameError\u001b[0m: name 'greeting' is not defined"
     ]
    }
   ],
   "source": [
    "# delete the greeting object, then try to print it\n",
    "# we get a NameError again, just as if we did above\n",
    "del greeting\n",
    "print(greeting)"
   ]
  },
  {
   "cell_type": "markdown",
   "id": "ff9288d0",
   "metadata": {},
   "source": [
    "#### Classes"
   ]
  },
  {
   "cell_type": "markdown",
   "id": "9f64d9cf",
   "metadata": {},
   "source": [
    "You can learn a little bit about an object by supplying it as an argument to the type() function. When you call type() with an argument, Python returns a message telling you what type of object it is. (Incidentally, this is one of those times you might refer to a function without calling it!)"
   ]
  },
  {
   "cell_type": "code",
   "execution_count": 9,
   "id": "21075f3f",
   "metadata": {},
   "outputs": [
    {
     "data": {
      "text/plain": [
       "builtin_function_or_method"
      ]
     },
     "execution_count": 9,
     "metadata": {},
     "output_type": "execute_result"
    }
   ],
   "source": [
    "# identify the type of the object 'print'\n",
    "type(print)"
   ]
  },
  {
   "cell_type": "markdown",
   "id": "1823a93c",
   "metadata": {},
   "source": [
    "What the type() method returns is a description of the object's **class**. We don't need to go too far into what classes are just yet, but you can think of them as general, abstract categories of things that exist independent of any particular instance of those things, the way that, for instance, the tree in my front yard and the tree outside my office are both instances of the general class of \"trees\". type(print), above, tells us that the print function is a member of the builtin_function_or_method class, which means that it is a function (which we defined above) which is built-in to Python, meaning that the user doesn't need to define it because it's already known. Below, we'll re-define greeting and then see what kind of class it has."
   ]
  },
  {
   "cell_type": "code",
   "execution_count": 11,
   "id": "132351a4",
   "metadata": {},
   "outputs": [
    {
     "data": {
      "text/plain": [
       "str"
      ]
     },
     "execution_count": 11,
     "metadata": {},
     "output_type": "execute_result"
    }
   ],
   "source": [
    "# re-define greeting and find its class\n",
    "greeting = \"Hello world!\"\n",
    "type(greeting)"
   ]
  },
  {
   "cell_type": "markdown",
   "id": "8771296e",
   "metadata": {},
   "source": [
    "Python tells us that the class of the *greeting* object is *str*, short of \"string\".\n",
    "\n",
    "#### Strings\n",
    "\n",
    "A string is a sequence of zero or more characters, whether alpha ('a' through 'z'), numeric, or special characters like punctuation marks. *greeting* is a string **variable**, that is, an object with a reserved location in the computer's memory, whereas the string we assigned to it, \"Hello world!\", is called a **string-literal**. A string variable is an object the contents of which are of the class 'str'; a string-literal is a string which is directly defined. We define a string-literal using quotation marks. Either single- or double-quotation marks are fine as long as your use of them is consistent, as we see below."
   ]
  },
  {
   "cell_type": "code",
   "execution_count": 2,
   "id": "424bc34b",
   "metadata": {},
   "outputs": [
    {
     "name": "stdout",
     "output_type": "stream",
     "text": [
      "Hello world!\n"
     ]
    }
   ],
   "source": [
    "# define greeting with single quotation marks\n",
    "greeting = 'Hello world!'\n",
    "print(greeting)"
   ]
  },
  {
   "cell_type": "code",
   "execution_count": 13,
   "id": "bf7989f5",
   "metadata": {},
   "outputs": [
    {
     "name": "stdout",
     "output_type": "stream",
     "text": [
      "Hello world!\n"
     ]
    }
   ],
   "source": [
    "# define greeting with double quotation marks\n",
    "greeting = \"Hello world!\"\n",
    "print(greeting)"
   ]
  },
  {
   "cell_type": "code",
   "execution_count": 14,
   "id": "281cbe77",
   "metadata": {},
   "outputs": [
    {
     "ename": "SyntaxError",
     "evalue": "unterminated string literal (detected at line 2) (1021070083.py, line 2)",
     "output_type": "error",
     "traceback": [
      "\u001b[1;36m  Cell \u001b[1;32mIn [14], line 2\u001b[1;36m\u001b[0m\n\u001b[1;33m    greeting = 'Hello world!\"\u001b[0m\n\u001b[1;37m               ^\u001b[0m\n\u001b[1;31mSyntaxError\u001b[0m\u001b[1;31m:\u001b[0m unterminated string literal (detected at line 2)\n"
     ]
    }
   ],
   "source": [
    "# define greeting with mixed quotation marks\n",
    "greeting = 'Hello world!\"\n",
    "print(greeting)"
   ]
  },
  {
   "cell_type": "markdown",
   "id": "699f7ff3",
   "metadata": {},
   "source": [
    "As you can see, both of the first two assignments of *greeting* above work, but the third fails, because the string-literal is opened with single-quotation marks and Python thus expects the string to close with single-quotation marks. When it reaches the end of the line (EOL) without finding another single-quotation mark, we see a new kind of error, a SyntaxError, telling us that the user has used bad syntax in writing code, resulting in the above-described ambiguity.\n",
    "\n",
    "If you want your string *itself* to contain either single- or double-quotation marks, simply wrap the string in the other kind of mark, as below."
   ]
  },
  {
   "cell_type": "code",
   "execution_count": 15,
   "id": "7c76caa1",
   "metadata": {},
   "outputs": [
    {
     "name": "stdout",
     "output_type": "stream",
     "text": [
      "I don't want to go to sleep right now.\n"
     ]
    }
   ],
   "source": [
    "# define a string containing single-quotation marks.\n",
    "message = \"I don't want to go to sleep right now.\"\n",
    "print(message)"
   ]
  },
  {
   "cell_type": "code",
   "execution_count": 16,
   "id": "6d87644f",
   "metadata": {},
   "outputs": [
    {
     "name": "stdout",
     "output_type": "stream",
     "text": [
      "\"This is terrible,\" he said.\n"
     ]
    }
   ],
   "source": [
    "# define a string containing double-quotation marks.\n",
    "message2 = '\"This is terrible,\" he said.'\n",
    "print(message2)"
   ]
  },
  {
   "cell_type": "markdown",
   "id": "1a55a608",
   "metadata": {},
   "source": [
    "If you want your string to contain *both* single- and double-quotation marks, you'll need to use the backslash (\\\\) as an **escape character**. An escape character is one which invokes a different interpretation on the subsequent character in the string than would be implied if that character were not prefaced by an escape character.\n",
    "\n",
    "Suppose we want to print the string: *\\\"I don't want to go to sleep right now,\" he said*. This string contains both single- and double-quotation marks; to get Python to recognize it as a string, I'll have to wrap the string in either single- or double-quotation marks, and then escape out every other instance of that mark from the string so that Python doesn't mistake it for the end of the string. We do this by placing a backslash before the relevant character, as below (I choose to wrap the string in single-quotation marks so I only have to escape the mid-string apostrophe, but you could, if you prefer, wrap the string in double-quotation marks and then escape out the two instances of them that appear in the string)."
   ]
  },
  {
   "cell_type": "code",
   "execution_count": 17,
   "id": "0c14165d",
   "metadata": {},
   "outputs": [
    {
     "name": "stdout",
     "output_type": "stream",
     "text": [
      "\"I don't want to go to sleep right now,\" he said.\n"
     ]
    }
   ],
   "source": [
    "# define a string containing both single- and double-quotation marks, using escape characters.\n",
    "message3 = '\"I don\\'t want to go to sleep right now,\" he said.'\n",
    "print(message3)"
   ]
  },
  {
   "cell_type": "markdown",
   "id": "77d92781",
   "metadata": {},
   "source": [
    "#### Methods\n",
    "\n",
    "If you want to know even more about an object than what type() tells you, you can use the dir() function."
   ]
  },
  {
   "cell_type": "code",
   "execution_count": 18,
   "id": "a4d283bb",
   "metadata": {},
   "outputs": [
    {
     "data": {
      "text/plain": [
       "['__add__',\n",
       " '__class__',\n",
       " '__contains__',\n",
       " '__delattr__',\n",
       " '__dir__',\n",
       " '__doc__',\n",
       " '__eq__',\n",
       " '__format__',\n",
       " '__ge__',\n",
       " '__getattribute__',\n",
       " '__getitem__',\n",
       " '__getnewargs__',\n",
       " '__gt__',\n",
       " '__hash__',\n",
       " '__init__',\n",
       " '__init_subclass__',\n",
       " '__iter__',\n",
       " '__le__',\n",
       " '__len__',\n",
       " '__lt__',\n",
       " '__mod__',\n",
       " '__mul__',\n",
       " '__ne__',\n",
       " '__new__',\n",
       " '__reduce__',\n",
       " '__reduce_ex__',\n",
       " '__repr__',\n",
       " '__rmod__',\n",
       " '__rmul__',\n",
       " '__setattr__',\n",
       " '__sizeof__',\n",
       " '__str__',\n",
       " '__subclasshook__',\n",
       " 'capitalize',\n",
       " 'casefold',\n",
       " 'center',\n",
       " 'count',\n",
       " 'encode',\n",
       " 'endswith',\n",
       " 'expandtabs',\n",
       " 'find',\n",
       " 'format',\n",
       " 'format_map',\n",
       " 'index',\n",
       " 'isalnum',\n",
       " 'isalpha',\n",
       " 'isascii',\n",
       " 'isdecimal',\n",
       " 'isdigit',\n",
       " 'isidentifier',\n",
       " 'islower',\n",
       " 'isnumeric',\n",
       " 'isprintable',\n",
       " 'isspace',\n",
       " 'istitle',\n",
       " 'isupper',\n",
       " 'join',\n",
       " 'ljust',\n",
       " 'lower',\n",
       " 'lstrip',\n",
       " 'maketrans',\n",
       " 'partition',\n",
       " 'removeprefix',\n",
       " 'removesuffix',\n",
       " 'replace',\n",
       " 'rfind',\n",
       " 'rindex',\n",
       " 'rjust',\n",
       " 'rpartition',\n",
       " 'rsplit',\n",
       " 'rstrip',\n",
       " 'split',\n",
       " 'splitlines',\n",
       " 'startswith',\n",
       " 'strip',\n",
       " 'swapcase',\n",
       " 'title',\n",
       " 'translate',\n",
       " 'upper',\n",
       " 'zfill']"
      ]
     },
     "execution_count": 18,
     "metadata": {},
     "output_type": "execute_result"
    }
   ],
   "source": [
    "# Run dir() on a string variable\n",
    "dir(greeting)"
   ]
  },
  {
   "cell_type": "markdown",
   "id": "d1598ca0",
   "metadata": {},
   "source": [
    "dir(), short for \"directory\", returns a list of the various **methods** available for objects of that class. Remember that a class is a common name for objects of a certain type. The strings \"Hello world!\" and \"Goodbye world!\", though they have different content, are both objects of the string class, and so have the same characteristics and the same methods available to them. What is a method? A method is just a function -- that is, a reusable block of code -- inherent to members of a particular class.\n",
    "\n",
    "What dir(greeting) returned above is simply a list of the methods that we can apply to string objects like \"greeting\". You call an object with a method using what's called **dot notation**, because they're called together, first the object and then the method separated by a dot. For instance, note that, in the list above, there's a method called upper. Let's apply that method to greeting and see what happens. (Remember that, because a method is just a kind of function, we still have to call it with parentheses). For our purposes, whenever referring to a method, we'll identify it with a leading period and parentheses after."
   ]
  },
  {
   "cell_type": "code",
   "execution_count": 19,
   "id": "99cfde8c",
   "metadata": {},
   "outputs": [
    {
     "name": "stdout",
     "output_type": "stream",
     "text": [
      "HELLO WORLD!\n"
     ]
    }
   ],
   "source": [
    "# print greeting while calling the .upper() method\n",
    "print(greeting.upper())"
   ]
  },
  {
   "cell_type": "markdown",
   "id": "8d0e3956",
   "metadata": {},
   "source": [
    "So, calling a string with the .upper() method returns that string coerced into upper-case letters. Note that, because we didn't re-assign the value of greeting, it remains just as it was if we call it again."
   ]
  },
  {
   "cell_type": "code",
   "execution_count": 20,
   "id": "075f0ca4",
   "metadata": {},
   "outputs": [
    {
     "name": "stdout",
     "output_type": "stream",
     "text": [
      "Hello world!\n"
     ]
    }
   ],
   "source": [
    "# print greeting\n",
    "print(greeting)"
   ]
  },
  {
   "cell_type": "markdown",
   "id": "5ba65045",
   "metadata": {},
   "source": [
    "Various other string methods affect the case of a string. Here are some examples."
   ]
  },
  {
   "cell_type": "code",
   "execution_count": 26,
   "id": "5bc928db",
   "metadata": {},
   "outputs": [
    {
     "name": "stdout",
     "output_type": "stream",
     "text": [
      "hello world!\n",
      "Hello World!\n",
      "HELLO WORLD!\n",
      "Hello world!\n"
     ]
    }
   ],
   "source": [
    "print(greeting.lower())      # Coerces to lower case\n",
    "print(greeting.title())      # Coerces to title case (first letter of each word capitalized)\n",
    "print(greeting.upper())      # Coerces to upper case\n",
    "print(greeting.capitalize()) # Capitalizes only the first letter of the string; coerces the rest to lower case"
   ]
  },
  {
   "cell_type": "markdown",
   "id": "c6d95977",
   "metadata": {},
   "source": [
    "We can also use the .replace() method to replace specific substrings with other strings. Suppose we want to replace 'Hello' with 'Goodbye'. We can call *greeting* with the .replace() method, supplying two arguments: first, the substring to replace; second, the substring to replace the first. When calling methods or functions with multiple arguments, always delimit them with a comma. Note that .replace() replaces every instance it finds; if no instances are found, the original string is returned untransformed."
   ]
  },
  {
   "cell_type": "code",
   "execution_count": 23,
   "id": "740343ce",
   "metadata": {},
   "outputs": [
    {
     "name": "stdout",
     "output_type": "stream",
     "text": [
      "Goodbye world!\n"
     ]
    }
   ],
   "source": [
    "# print greeting while calling the .replace() method, replacing every instance of 'Hello' with 'Goodbye'\n",
    "print(greeting.replace('Hello', 'Goodbye'))"
   ]
  },
  {
   "cell_type": "markdown",
   "id": "23887e83",
   "metadata": {},
   "source": [
    "As before, all of these transformations are temporary unless we reassign the output back to the *greeting* variable, as we do below."
   ]
  },
  {
   "cell_type": "code",
   "execution_count": 28,
   "id": "80568e04",
   "metadata": {},
   "outputs": [
    {
     "name": "stdout",
     "output_type": "stream",
     "text": [
      "HELLO WORLD!\n"
     ]
    }
   ],
   "source": [
    "# upper-case transform the greeting variable, reassign, then print it\n",
    "greeting = greeting.upper()\n",
    "print(greeting)"
   ]
  },
  {
   "cell_type": "markdown",
   "id": "d12d51c8",
   "metadata": {},
   "source": [
    "Other methods offer the ability to check if a string conforms to upper, lower, or title case; these are logical tests that return True or False."
   ]
  },
  {
   "cell_type": "code",
   "execution_count": 29,
   "id": "db51bdeb",
   "metadata": {},
   "outputs": [
    {
     "name": "stdout",
     "output_type": "stream",
     "text": [
      "HELLO WORLD!\n",
      "False\n",
      "False\n",
      "True\n"
     ]
    }
   ],
   "source": [
    "print(greeting)\n",
    "\n",
    "print(greeting.islower())  # Returns False, because greeting is all upper-case\n",
    "print(greeting.istitle())  # Returns False\n",
    "print(greeting.isupper())  # Returns True"
   ]
  },
  {
   "cell_type": "markdown",
   "id": "055fd3bc",
   "metadata": {},
   "source": [
    "We can use the various 'strip' methods to remove all spaces from the beginning or end of a string: .rstrip() removes the spaces from the right (trailing) side of the string, .lstrip() removes them from the left (leading) side of the string, and .strip() removes all the spaces on either side. In none of these cases will the method affect spaces in the middle of the string, only those that come before the first or after the last alphanumeric character. (Note that if you call a variable without print, it will usually echo the value of the variable to the console, allowing you to see the quotation marks that delineate the beginning and end of the string)."
   ]
  },
  {
   "cell_type": "code",
   "execution_count": 32,
   "id": "624f6db2",
   "metadata": {},
   "outputs": [
    {
     "data": {
      "text/plain": [
       "'   there are a lot of extra spaces in this message    '"
      ]
     },
     "execution_count": 32,
     "metadata": {},
     "output_type": "execute_result"
    }
   ],
   "source": [
    "# define and print a message with lots of extra spaces to the left and right\n",
    "# to ensure the message shows on the console with quote marks visible, we'll call it rather than print it\n",
    "message4 = '   there are a lot of extra spaces in this message    '\n",
    "message4"
   ]
  },
  {
   "cell_type": "code",
   "execution_count": 33,
   "id": "3446cd89",
   "metadata": {},
   "outputs": [
    {
     "data": {
      "text/plain": [
       "'there are a lot of extra spaces in this message    '"
      ]
     },
     "execution_count": 33,
     "metadata": {},
     "output_type": "execute_result"
    }
   ],
   "source": [
    "# strip the leading spaces only\n",
    "message4.lstrip()"
   ]
  },
  {
   "cell_type": "code",
   "execution_count": 34,
   "id": "d40db241",
   "metadata": {},
   "outputs": [
    {
     "data": {
      "text/plain": [
       "'   there are a lot of extra spaces in this message'"
      ]
     },
     "execution_count": 34,
     "metadata": {},
     "output_type": "execute_result"
    }
   ],
   "source": [
    "# strip the trailing spaces only\n",
    "message4.rstrip()"
   ]
  },
  {
   "cell_type": "code",
   "execution_count": 35,
   "id": "d149880b",
   "metadata": {},
   "outputs": [
    {
     "data": {
      "text/plain": [
       "'there are a lot of extra spaces in this message'"
      ]
     },
     "execution_count": 35,
     "metadata": {},
     "output_type": "execute_result"
    }
   ],
   "source": [
    "# strip all leading and trailing spaces\n",
    "message4.strip()"
   ]
  },
  {
   "cell_type": "markdown",
   "id": "3f67710e",
   "metadata": {},
   "source": [
    "You can use the .split() method to split a string into a list of constituent words. By default, .split() will split a string on spaces, but you can give .split() a character argument telling it where to make splits instead. (We'll talk more about Python lists in a later lesson; for now, just understand that a list is an ordered collection of data elements like words or letters.)"
   ]
  },
  {
   "cell_type": "code",
   "execution_count": 37,
   "id": "b651a210",
   "metadata": {},
   "outputs": [
    {
     "name": "stdout",
     "output_type": "stream",
     "text": [
      "['Hello', 'world!']\n",
      "['Hell', ' w', 'rld!']\n"
     ]
    }
   ],
   "source": [
    "greeting = greeting.capitalize() # Reassign original case to the greeting variable\n",
    "print(greeting.split())      # Splits greeting using white spaces\n",
    "print(greeting.split('o'))   # Splits greeting using the letter 'o'"
   ]
  },
  {
   "cell_type": "markdown",
   "id": "c16deb22",
   "metadata": {},
   "source": [
    "You can use the .zfill() method to pad a leading string with zeroes until its length is greater than or equal to the argument supplied by the user. The .zfill() is a method which has NO default argument: it will fail unless the user provides it with a length. If the string is already as long as the user-specified length, it will return the unmodified string."
   ]
  },
  {
   "cell_type": "code",
   "execution_count": 38,
   "id": "812e130f",
   "metadata": {},
   "outputs": [
    {
     "name": "stdout",
     "output_type": "stream",
     "text": [
      "Hello world!\n",
      "000Hello world!\n"
     ]
    }
   ],
   "source": [
    "print(greeting.zfill(5))   # Print greeting padded with leading zeroes to a minimum length of 5\n",
    "print(greeting.zfill(15))  # Print greeting padded with leading zeroes to a minimum length of 15"
   ]
  },
  {
   "cell_type": "markdown",
   "id": "268edcc7",
   "metadata": {},
   "source": [
    "It's worth noting, too, that method calls can be chained together, each one modifying the string that resulted from the previous calls, as we see below."
   ]
  },
  {
   "cell_type": "code",
   "execution_count": 41,
   "id": "a91da8c4",
   "metadata": {},
   "outputs": [
    {
     "name": "stdout",
     "output_type": "stream",
     "text": [
      "Hello world!\n",
      "HELLO WORLD!\n",
      "GOODBYE WORLD!\n",
      "000000GOODBYE WORLD!\n"
     ]
    }
   ],
   "source": [
    "# Print greeting, then print a version that chains together a few method calls\n",
    "print(greeting)\n",
    "print(greeting.upper())\n",
    "print(greeting.upper().replace('HELLO', 'GOODBYE'))\n",
    "print(greeting.upper().replace('HELLO', 'GOODBYE').zfill(20))"
   ]
  },
  {
   "cell_type": "markdown",
   "id": "c3003920",
   "metadata": {},
   "source": [
    "#### String lengths\n",
    "Speaking of length, now would be a good time to introduce the len() function, which returns the length of a string, that is, the number of characters making up the string."
   ]
  },
  {
   "cell_type": "code",
   "execution_count": 39,
   "id": "91ef9b08",
   "metadata": {},
   "outputs": [
    {
     "name": "stdout",
     "output_type": "stream",
     "text": [
      "12\n"
     ]
    }
   ],
   "source": [
    "# Print the length of the greeting string\n",
    "print(len(greeting))"
   ]
  },
  {
   "cell_type": "markdown",
   "id": "f793613a",
   "metadata": {},
   "source": [
    "What len(greeting) returns above is 12, because there are 12 characters in the message \"Hello world!\". Now we see why greeting.zfill(5) simply returned the unedited string (because the string is already more than 5 characters long), whereas greeting.zfill(15) returned the string with three leading 0's (because 3 + 12 = 15)."
   ]
  },
  {
   "cell_type": "markdown",
   "id": "8c002980",
   "metadata": {},
   "source": [
    "#### Concatenating strings"
   ]
  },
  {
   "cell_type": "markdown",
   "id": "6d5064fa",
   "metadata": {},
   "source": [
    "You can concatenate (that is, join together) two distinct strings using the \"+\" operator."
   ]
  },
  {
   "cell_type": "code",
   "execution_count": 42,
   "id": "dad6a8ad",
   "metadata": {},
   "outputs": [
    {
     "name": "stdout",
     "output_type": "stream",
     "text": [
      "Helloworld!\n"
     ]
    }
   ],
   "source": [
    "# Concatenate \"Hello world!\" out of two different strings.\n",
    "a = \"Hello\"\n",
    "b = \"world!\"\n",
    "print(a+b)"
   ]
  },
  {
   "cell_type": "markdown",
   "id": "4dd83d91",
   "metadata": {},
   "source": [
    "Whoops, that didn't work as expected, because we didn't include a space anywhere. We have two options here: we can concatenate a space into the argument of the print() function, as below..."
   ]
  },
  {
   "cell_type": "code",
   "execution_count": 43,
   "id": "0d40aed2",
   "metadata": {},
   "outputs": [
    {
     "name": "stdout",
     "output_type": "stream",
     "text": [
      "Hello world!\n"
     ]
    }
   ],
   "source": [
    "# Print the concatenated greeting with a space included\n",
    "print(a + \" \" + b)"
   ]
  },
  {
   "cell_type": "markdown",
   "id": "88ffe1dd",
   "metadata": {},
   "source": [
    "...or we can edit either *a* or *b* to include a space. We can add characters to the end of an existing string using another operator, \"+=\"."
   ]
  },
  {
   "cell_type": "code",
   "execution_count": 44,
   "id": "b2293a64",
   "metadata": {},
   "outputs": [
    {
     "name": "stdout",
     "output_type": "stream",
     "text": [
      "Hello world!\n"
     ]
    }
   ],
   "source": [
    "# Add a space to the end of the a string, then print the concatenation\n",
    "a += \" \"\n",
    "print(a+b)"
   ]
  },
  {
   "cell_type": "markdown",
   "id": "8bdd50c4",
   "metadata": {},
   "source": [
    "#### String Formatting\n",
    "You can format the way a string appears using the .format() method. Basically, write your string out the way you want it to appear, using {} as placeholders for arguments you're going to supply later. Then apply the .format() method, giving one argument per pair of curly braces in the string."
   ]
  },
  {
   "cell_type": "code",
   "execution_count": 3,
   "id": "40bbb373",
   "metadata": {},
   "outputs": [
    {
     "name": "stdout",
     "output_type": "stream",
     "text": [
      "The variable 'greeting' contains the following text: 'Hello world!'\n",
      "If you apply the upper() method to 'greeting', it returns the following: 'HELLO WORLD!'\n"
     ]
    }
   ],
   "source": [
    "# print statements using the .format() method\n",
    "print(\"The variable 'greeting' contains the following text: '{}'\".format(greeting))\n",
    "print(\"If you apply the upper() method to 'greeting', it returns the following: '{}'\".format(greeting.upper()))"
   ]
  },
  {
   "cell_type": "markdown",
   "id": "f9547016",
   "metadata": {},
   "source": [
    "You can also write what's called an 'f-string'. If you preface the string definition with the letter 'f' (for 'format'), you can supply variables to the string directly, inside the curly braces, without having to call the .format() method."
   ]
  },
  {
   "cell_type": "code",
   "execution_count": 4,
   "id": "9c93accc",
   "metadata": {},
   "outputs": [
    {
     "name": "stdout",
     "output_type": "stream",
     "text": [
      "The variable 'greeting' contains the following text: 'Hello world!'\n",
      "If you apply the upper() method to 'greeting', it returns the following: 'HELLO WORLD!'\n"
     ]
    }
   ],
   "source": [
    "# print statements using f-strings\n",
    "print(f\"The variable 'greeting' contains the following text: '{greeting}'\")\n",
    "print(f\"If you apply the upper() method to 'greeting', it returns the following: '{greeting.upper()}'\")"
   ]
  },
  {
   "cell_type": "markdown",
   "id": "09dc323b",
   "metadata": {},
   "source": [
    "The advantage to using the .format() method is that you can supply instructions for formatting how your variable appears. Suppose I have a variable called pi, and I want to control how many decimal places appear. Using the .format() method, I can place formatting instructions inside the curly braces, as below. Begin with a colon (\":\") to tell Python to expect formatting information. Then supply the number of decimal places to truncate to (.4 tells us that we want to format the number with 4 decimal places shown). Finnally, end with a character indicating the kind of variable to which the formatting should apply; we use \"f\" here, for \"float\", referring to a decimal number, but you could easily put in, for instance, \"%\" for a percentage/"
   ]
  },
  {
   "cell_type": "code",
   "execution_count": 19,
   "id": "175fdef2",
   "metadata": {},
   "outputs": [
    {
     "name": "stdout",
     "output_type": "stream",
     "text": [
      "The value of pi, evaluated to four decimal places, is 3.1416.\n"
     ]
    }
   ],
   "source": [
    "# print pi to 4 decimal places using .format()\n",
    "PI = 3.14159265359\n",
    "print(\"The value of pi, evaluated to four decimal places, is {:.4f}.\".format(PI))"
   ]
  },
  {
   "cell_type": "markdown",
   "id": "8f8757b5",
   "metadata": {},
   "source": [
    "Of course, you can also supply the formatting information directly in f-strings, too, with a colon following the variable name and then the same style of formatting information!"
   ]
  },
  {
   "cell_type": "code",
   "execution_count": 20,
   "id": "541e3503",
   "metadata": {},
   "outputs": [
    {
     "name": "stdout",
     "output_type": "stream",
     "text": [
      "The value of pi, evaluated to four decimal places, is 3.1416.\n"
     ]
    }
   ],
   "source": [
    "# print pi to 4 decimal places using an f-string\n",
    "PI = 3.14159265359\n",
    "print(f\"The value of pi, evaluated to four decimal places, is {PI:.4f}.\")"
   ]
  },
  {
   "cell_type": "markdown",
   "id": "969cefe5",
   "metadata": {},
   "source": [
    "#### Special Whitespace Characters\n",
    "You can insert certain special character combinations to tell Python to insert a line break, tab, or carriage return into a string. Special characters always begin with the escape character \"\\\", which, remember, tells Python to treat the character after the escape character differently.\n",
    "\n",
    "Special characters are interpreted by print() in particular ways. For instance, the special character \"\\n\" tells Python to insert a line break (i.e., a \"n\"ew line). When you print a message containing \"\\n\", the special character \"\\n\" is not printed, and is instead replaced with a line break, as we see below."
   ]
  },
  {
   "cell_type": "code",
   "execution_count": 21,
   "id": "0ced0820",
   "metadata": {},
   "outputs": [
    {
     "name": "stdout",
     "output_type": "stream",
     "text": [
      "This is a long message.\n",
      "We have inserted a line break to break it up a little.\n"
     ]
    }
   ],
   "source": [
    "# print a statement with a line break (\"\\n\")\n",
    "print(\"This is a long message.\\nWe have inserted a line break to break it up a little.\")"
   ]
  },
  {
   "cell_type": "markdown",
   "id": "d48868a2",
   "metadata": {},
   "source": [
    "We can also use the special character \"\\t\" to insert a tab."
   ]
  },
  {
   "cell_type": "code",
   "execution_count": 22,
   "id": "6c09290b",
   "metadata": {},
   "outputs": [
    {
     "name": "stdout",
     "output_type": "stream",
     "text": [
      "\tThis statement is slightly indented.\n"
     ]
    }
   ],
   "source": [
    "# print a statement with an indent (\"\\t\")\n",
    "print(\"\\tThis statement is slightly indented.\")"
   ]
  },
  {
   "cell_type": "markdown",
   "id": "07c02d7f",
   "metadata": {},
   "source": [
    "You can use multiple special characters, even in a row. Below, let's format some Shakespeare in a way that would please the bard."
   ]
  },
  {
   "cell_type": "code",
   "execution_count": 23,
   "id": "e760772c",
   "metadata": {},
   "outputs": [
    {
     "name": "stdout",
     "output_type": "stream",
     "text": [
      "RICHARD II:\n",
      "\tOld John of Gaunt, time-honour'd Lancaster,\n",
      "\tHast thou, according to thy oath and band,\n",
      "\tBrought hither Henry Hereford thy bold son,\n",
      "\tHere to make good the boisterous late appeal,\n",
      "\tWhich then our leisure would not let us hear,\n",
      "\tAgainst the Duke of Norfolk, Thomas Mowbray?\n"
     ]
    }
   ],
   "source": [
    "first_lines_of_richard_II = \"RICHARD II:\\n\\tOld John of Gaunt, time-honour'd Lancaster,\"\n",
    "first_lines_of_richard_II += \"\\n\\tHast thou, according to thy oath and band,\"\n",
    "first_lines_of_richard_II += \"\\n\\tBrought hither Henry Hereford thy bold son,\"\n",
    "first_lines_of_richard_II += \"\\n\\tHere to make good the boisterous late appeal,\"\n",
    "first_lines_of_richard_II += \"\\n\\tWhich then our leisure would not let us hear,\"\n",
    "first_lines_of_richard_II += \"\\n\\tAgainst the Duke of Norfolk, Thomas Mowbray?\"\n",
    "\n",
    "print(first_lines_of_richard_II)"
   ]
  },
  {
   "cell_type": "markdown",
   "id": "5cf0c3cf",
   "metadata": {},
   "source": [
    "The carriage return '\\r' is a strange case. It returns the cursor to the beginning of a line, so that any text added after the carriage return overwrites text at the beginning of the line. This might be useful if you need to overwrite the first few letters of a string, but in practice, you'll rarely ever use this. Below, we start a string message with a name, then use a carriage return special character to return to the beginning of that string and overwrite the name."
   ]
  },
  {
   "cell_type": "code",
   "execution_count": 26,
   "id": "45f4cf14",
   "metadata": {},
   "outputs": [
    {
     "name": "stdout",
     "output_type": "stream",
     "text": [
      "John is my name\n",
      "John is my name\r",
      "Sean\n"
     ]
    }
   ],
   "source": [
    "# print a statement, then edit its beginning using a carriage return\n",
    "message5 = \"John is my name\"\n",
    "print(message5)\n",
    "message5 += \"\\rSean\"\n",
    "print(message5)"
   ]
  },
  {
   "cell_type": "markdown",
   "id": "4af6a881",
   "metadata": {},
   "source": [
    "As usual, if you actually want your string to contain the characters '\\n', you'll need to escape out the escape character with another escape character, so Python interprets the backslash as raw text. Remember that \"\\n\" is treated by Python as a single character, so you only need a single backslash before it to escape out the whole thing."
   ]
  },
  {
   "cell_type": "code",
   "execution_count": 27,
   "id": "04e216ce",
   "metadata": {},
   "outputs": [
    {
     "name": "stdout",
     "output_type": "stream",
     "text": [
      "You can use the special character '\\n' to insert a line break into a string.\n"
     ]
    }
   ],
   "source": [
    "# print a statement with an escaped-out line break\n",
    "print(\"You can use the special character '\\\\n' to insert a line break into a string.\")"
   ]
  },
  {
   "cell_type": "markdown",
   "id": "10fa95dc",
   "metadata": {},
   "source": [
    "#### Duplicating Characters"
   ]
  },
  {
   "cell_type": "markdown",
   "id": "1fcdcaa1",
   "metadata": {},
   "source": [
    "Suppose you want to print a single character an arbitrarily large number of times. You can save yourself the trouble of tediously typing out and counting each individual character by using the * operator to duplicate the character a set number of times. If you have a variable *x*, printing *x* * *n* will print the variable *x* a number of times equal to *n*. Below, let's print out 52 dollar signs."
   ]
  },
  {
   "cell_type": "code",
   "execution_count": 28,
   "id": "49e9fe44",
   "metadata": {},
   "outputs": [
    {
     "name": "stdout",
     "output_type": "stream",
     "text": [
      "$$$$$$$$$$$$$$$$$$$$$$$$$$$$$$$$$$$$$$$$$$$$$$$$$$$$\n"
     ]
    }
   ],
   "source": [
    "# print out 52 dollar signs\n",
    "print(\"$\" * 52)"
   ]
  },
  {
   "cell_type": "markdown",
   "id": "eb629a34",
   "metadata": {},
   "source": [
    "#### Doing multiple things at once with strings"
   ]
  },
  {
   "cell_type": "markdown",
   "id": "bd6b2d5e",
   "metadata": {},
   "source": [
    "The great advantage of Python is its flexibility: even a single line of code can achieve multiple things at once. Suppose I have a variable containing my game's name, and I want to format a nice text banner for the game's title, so that the game name appears surrounded by dollar signs. We could write code to do this very easily."
   ]
  },
  {
   "cell_type": "code",
   "execution_count": 30,
   "id": "ef66c04d",
   "metadata": {},
   "outputs": [
    {
     "name": "stdout",
     "output_type": "stream",
     "text": [
      "$$$$$$$$$$$$$\n",
      "$ BLACKJACK $\n",
      "$$$$$$$$$$$$$\n"
     ]
    }
   ],
   "source": [
    "# create fancily-formatted game banner and print it\n",
    "\n",
    "game_name = \"$ BLACKJACK $\"\n",
    "game_border = \"$\" * len(game_name)\n",
    "game_name = game_border + \"\\n\" + game_name + \"\\n\" + game_border\n",
    "print(game_name)"
   ]
  },
  {
   "cell_type": "markdown",
   "id": "e40e1ef3",
   "metadata": {},
   "source": [
    "Above, we created a variable containing our game's name (BLACKJACK), bookended with dollar signs. Then we created a *game_border* variable, made to equal a number of dollar signs equal to the length of the game name variable, so the edges line up nicely. Then we re-defined our *game_name* variable to include the border, then a line break, then the game name, then a line break, then the border again.\n",
    "\n",
    "Python is so good at doing multiple things at once, in fact, that dot notation allows you to append multiple methods to a single object. Python will process methods one at a time in the order in which they're called, as long as the most recent method returns an object of the appropriate sort for that method. Here's an example. Suppose we want to replace every instance of \"Hello\" in a string with \"Goodbye\", but the word \"Hello\" appears in multiple cases throughout the string, so a single .replace() function won't replace both of them as-is, as it is case-sensitive. But, with diligent use of multiple methods, we can make this work."
   ]
  },
  {
   "cell_type": "markdown",
   "id": "ff45f596",
   "metadata": {},
   "source": [
    "### Conclusion\n",
    "\n",
    "In this lesson, we learned a bit about what Python is at a high-level, then began learning about Python objects, functions, classes, and methods. We saw how all these concepts apply to a fundamental class in Python, the string class. In the next lesson, we'll continue learning about some of the basic Python classes, including integers, floats, complex numbers, and Boolean values. We'll also learn some more logical operators (e.g., to test if one number is greater than another), converting between data types, and some other neat tips and tricks.\n",
    "\n",
    "\n",
    "### Vocabulary\n",
    "\n",
    "* **Object**: A programming construct in Python which represents a datum or collection of data.\n",
    "* **Function**: A reusable block of code which Python executes (or at least attempts to execute) whenever the function is called.\n",
    "* **Call**: The act of executing a function (or other callable object). This is done by referencing the name of the function followed by a set of parentheses. For instance, \"print\" references the function, but \"print()\" calls the function.\n",
    "* **Argument**: Inputs to a function supplied by the user when calling the function. Arguments are supplied to a function call inside the parentheses following the function's name. For instance, in the function call \"print('Hello world')\", the string 'Hello world!' is an argument to the print() function.\n",
    "* **Comment**: A short piece of non-code, usually intended as a description of code, created by prefacing some text with a hashtag (\"#\"). Such hashtags can also be used to \"comment out\" lines of code we want to disable without deleting.\n",
    "* **Assignment**: The act of associating a value *x* with a variable *y*, such that, when *y* is referenced, the value *x* is returned. When submitting the state *x = y*, we say that *y* is assigned to *x*.\n",
    "* **Operator**: A special character which tells Python to perform a particular operation. For instance, a plus sign '+' placed between two strings acts as a concatenation operator, telling Python to combine the two strings into one.\n",
    "* **Traceback**: A report produced by Python whenever an error is encountered that enables the user to trace the exact source of the error back to the code that caused it in the first place.\n",
    "* **Error**: A problem or ambiguity with Python code of such a nature that Python, uncertain of how to proceed, aborts execution of the code entirely.\n",
    "* **Class**: A very general, abstract template for an object, which determines exactly what that object represents and what can be done with it.\n",
    "* **String**: A type of class containing zero or more alphanumeric or other special characters.\n",
    "* **Variable**: A reserved location in a computer's memory containing a Python object. In the above assignment example *x = y*, the value in *y* is stored in the variable *x*. Variables must be named beginning with an alpha character (i.e., a letter) or an underscore.\n",
    "* **Literal**: A succinct and visually-sensible way of writing a value in Python; e.g., in *x = 'Hello'*, 'Hello' is a string-literal, recognizable as such by the quotation marks surrounding it. The variable *x* is then a string, but not, itself, a string-literal.\n",
    "* **Escape character**: A special character (in Python, the backslash '\\') which, when encountered in a string, tells the Python interpreter to interpret the next character in a special way. For instance, '\\n' tells Python to interpret the 'n' not as text but as a special instruction to insert a new line.\n",
    "* **Method**: A type of function proper to objects of a particular class. Because methods belong to all members of a particular class, they are called directly with variables of that class. For instance, the .upper() method can be called with string variables to capitalize all characters in the string, e.g., \"myString.upper()\".\n",
    "* **Dot notation**: The means of invoking a method on a particular object by naming the object, placing a period, and then calling the method. Dot notation allows multiple methods to be applied to the same object, one after another, simply by stringing them together with dot notation."
   ]
  },
  {
   "cell_type": "markdown",
   "id": "da498f23",
   "metadata": {},
   "source": [
    "### A Short Exercise\n",
    "\n",
    "Below, we define a few variables *a* (defined as the string 'lax') and *b* (defined as the string '8'). Your job is to write a single line of code that uses these two variables and prints the string 'LAX08' to the screen."
   ]
  },
  {
   "cell_type": "code",
   "execution_count": 36,
   "id": "d1817cfa",
   "metadata": {},
   "outputs": [],
   "source": [
    "a = 'lax'\n",
    "b = '8'"
   ]
  },
  {
   "cell_type": "code",
   "execution_count": null,
   "id": "e1d17bf5",
   "metadata": {},
   "outputs": [],
   "source": []
  }
 ],
 "metadata": {
  "kernelspec": {
   "display_name": "Python 3 (ipykernel)",
   "language": "python",
   "name": "python3"
  },
  "language_info": {
   "codemirror_mode": {
    "name": "ipython",
    "version": 3
   },
   "file_extension": ".py",
   "mimetype": "text/x-python",
   "name": "python",
   "nbconvert_exporter": "python",
   "pygments_lexer": "ipython3",
   "version": "3.10.6"
  }
 },
 "nbformat": 4,
 "nbformat_minor": 5
}
