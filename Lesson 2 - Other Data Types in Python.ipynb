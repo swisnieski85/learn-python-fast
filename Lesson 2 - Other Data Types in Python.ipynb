{
 "cells": [
  {
   "cell_type": "markdown",
   "id": "531c20ab",
   "metadata": {},
   "source": [
    "# Learn Python Fast\n",
    "## Lesson 2:  Other Data Types in Python\n",
    "#### Abstract\n",
    "\n",
    "Welcome back to Learn Python Fast, Lesson 2: Other Data Types in Python! In the last lesson, we gave a brief introduction to programming in general and Python in particular, then dove head-first into understanding Python objects, functions, classes, and methods, with a special focus on strings. Strings are a very common data type in Python, but they're not the only one, and in this lesson, we'll review some of the other most common classes you'll encounter. As before, we'll continue to **boldface** any important vocabulary, which will be covered at the end of the lesson."
   ]
  },
  {
   "cell_type": "markdown",
   "id": "055c6f23",
   "metadata": {},
   "source": [
    "#### Integers\n",
    "\n",
    "One of the most common data types in Python is the **integer**, which simply represents whole numbers. We assign integers to variables using just the number itself, without any quotation marks.\n",
    "\n",
    "Note that you can assign multiple values to multiple variables at once using parentheses, as we do below."
   ]
  },
  {
   "cell_type": "code",
   "execution_count": 6,
   "id": "2b72ba3a",
   "metadata": {},
   "outputs": [
    {
     "name": "stdout",
     "output_type": "stream",
     "text": [
      "15\n",
      "5\n"
     ]
    }
   ],
   "source": [
    "# define multiple integer variables, then print them\n",
    "a, b = 15, 5\n",
    "print(a)\n",
    "print(b)"
   ]
  },
  {
   "cell_type": "markdown",
   "id": "03600f86",
   "metadata": {},
   "source": [
    "Remember how we could use the \"+\" operator to concatenate strings? We can use the same operator with integers to do addition."
   ]
  },
  {
   "cell_type": "code",
   "execution_count": 4,
   "id": "3d030a08",
   "metadata": {},
   "outputs": [
    {
     "name": "stdout",
     "output_type": "stream",
     "text": [
      "20\n"
     ]
    }
   ],
   "source": [
    "# print the sum of a and b; should print 20\n",
    "print(a+b)"
   ]
  },
  {
   "cell_type": "markdown",
   "id": "efaa7400",
   "metadata": {},
   "source": [
    "Indeed, we can do all the basic mathematical operations in Python."
   ]
  },
  {
   "cell_type": "code",
   "execution_count": 7,
   "id": "6d8c48ac",
   "metadata": {},
   "outputs": [
    {
     "name": "stdout",
     "output_type": "stream",
     "text": [
      "20\n",
      "10\n",
      "75\n",
      "3.0\n",
      "759375\n"
     ]
    }
   ],
   "source": [
    "print(a + b)    # Addition: returns 20\n",
    "print(a - b)    # Subtraction: returns 10\n",
    "print(a * b)    # Multiplication: returns 75\n",
    "print(a / b)    # Division: returns 3.0\n",
    "print(a ** b)   # Raising to powers: returns 759,375"
   ]
  },
  {
   "cell_type": "markdown",
   "id": "5235e739",
   "metadata": {},
   "source": [
    "In general, Python respects the order of operations, so that expressions inside parentheses are evaluated before those outside parentheses. Where there are multiple nested parentheses, expressions inside the innermost parentheses are evaluated first before moving outward."
   ]
  },
  {
   "cell_type": "code",
   "execution_count": 8,
   "id": "da6184bc",
   "metadata": {},
   "outputs": [
    {
     "name": "stdout",
     "output_type": "stream",
     "text": [
      "21\n",
      "11\n",
      "15\n",
      "19\n"
     ]
    }
   ],
   "source": [
    "a = (5+2)*3      # Evaluates to (5+2)*3 = (7)*3 = 21.\n",
    "print(a)\n",
    "\n",
    "b = 5+(2*3)      # Evaluates to 5+(2*3) = 5+(6) = 11.\n",
    "print(b)\n",
    "\n",
    "c = 5+((2*3)+4)  # evaluates to 5+((2*3)+4) = 5+(6+4) = 5+10 = 15\n",
    "print(c)\n",
    "\n",
    "d = 5+(2*(3+4))  # evaluates to 5+(2*(3+4)) = 5+(2*7) = 5+14 = 19\n",
    "print(d)"
   ]
  },
  {
   "cell_type": "markdown",
   "id": "c8d7ee74",
   "metadata": {},
   "source": [
    "The operator \"%\" signifies the modulus operation, which returns the remainder after dividing the left-hand number by the right-hand number."
   ]
  },
  {
   "cell_type": "code",
   "execution_count": 9,
   "id": "907a1c77",
   "metadata": {},
   "outputs": [
    {
     "name": "stdout",
     "output_type": "stream",
     "text": [
      "0\n",
      "3\n"
     ]
    }
   ],
   "source": [
    "print(15 % 5)    # Returns 0, because 15 is perfectly divisible by 5.\n",
    "print(15 % 4)    # Returns 3, because 15/4 = 3.75, and 0.75*4 = 3, i.e., because 4 goes into 15 evenly three times, leaving a remainder of 3."
   ]
  },
  {
   "cell_type": "markdown",
   "id": "a75f8a66",
   "metadata": {},
   "source": [
    "The modulus operator is a great way to check if a number is even. A number x is even if it's perfectly divisible by 2, i.e., if x % 2 is equal to 0."
   ]
  },
  {
   "cell_type": "code",
   "execution_count": 10,
   "id": "aeea85e0",
   "metadata": {},
   "outputs": [
    {
     "name": "stdout",
     "output_type": "stream",
     "text": [
      "0\n",
      "1\n"
     ]
    }
   ],
   "source": [
    "a = 14\n",
    "print(a % 2)    # Returns 0, because 14 is even.\n",
    "\n",
    "b = 27\n",
    "print(b % 2)   # Returns 1, because 27 is odd."
   ]
  },
  {
   "cell_type": "markdown",
   "id": "89effde6",
   "metadata": {},
   "source": [
    "Of note: you can use the underscore character \"_\" to group digits together in user-readable ways, in place of commas. Python will ignore underscores when storing or printing the value."
   ]
  },
  {
   "cell_type": "code",
   "execution_count": 11,
   "id": "da9ab6bb",
   "metadata": {},
   "outputs": [
    {
     "name": "stdout",
     "output_type": "stream",
     "text": [
      "299792458\n"
     ]
    }
   ],
   "source": [
    "SPEED_OF_LIGHT = 299_792_458\n",
    "print(SPEED_OF_LIGHT)"
   ]
  },
  {
   "cell_type": "markdown",
   "id": "f6fd6dca",
   "metadata": {},
   "source": [
    "#### Floats\n",
    "\n",
    "Whereas integers represent whole numbers, **floats** represent numbers with decimal places."
   ]
  },
  {
   "cell_type": "code",
   "execution_count": 12,
   "id": "ef888067",
   "metadata": {},
   "outputs": [
    {
     "name": "stdout",
     "output_type": "stream",
     "text": [
      "3.142\n",
      "<class 'float'>\n"
     ]
    }
   ],
   "source": [
    "pi_to_three_digits = 3.142\n",
    "print(pi_to_three_digits)\n",
    "print(type(pi_to_three_digits))"
   ]
  },
  {
   "cell_type": "markdown",
   "id": "42ae0daa",
   "metadata": {},
   "source": [
    "We can assign floats simply by placing a period after an integer, with or without a zero following it. A float will always display as a decimal, even if the decimal portion of the number is 0."
   ]
  },
  {
   "cell_type": "code",
   "execution_count": 13,
   "id": "2f14c8a5",
   "metadata": {},
   "outputs": [
    {
     "name": "stdout",
     "output_type": "stream",
     "text": [
      "5.0\n",
      "<class 'float'>\n"
     ]
    }
   ],
   "source": [
    "# assign, print, and print type of a float\n",
    "a = 5.\n",
    "print(a)\n",
    "print(type(a))"
   ]
  },
  {
   "cell_type": "markdown",
   "id": "8b0732a1",
   "metadata": {},
   "source": [
    "Mathematical operations with floats work the same way as they do with integers."
   ]
  },
  {
   "cell_type": "code",
   "execution_count": 15,
   "id": "44defe98",
   "metadata": {},
   "outputs": [
    {
     "name": "stdout",
     "output_type": "stream",
     "text": [
      "20.0\n",
      "10.0\n",
      "75.0\n",
      "3.0\n",
      "759375.0\n"
     ]
    }
   ],
   "source": [
    "a, b = 15.0, 5.0\n",
    "print(a + b)    # Addition: returns 20.0\n",
    "print(a - b)    # Subtraction: returns 10.0\n",
    "print(a * b)    # Multiplication: returns 75.0\n",
    "print(a / b)    # Division: returns 3.0\n",
    "print(a ** b)   # Raising to powers: returns 759375.0"
   ]
  },
  {
   "cell_type": "markdown",
   "id": "75142af5",
   "metadata": {},
   "source": [
    "Note that any non-division mathematical operation done with integers only will return an integer, but if the operation is division or if any of the numbers involved are floats, a float will always be returned, as we see below."
   ]
  },
  {
   "cell_type": "code",
   "execution_count": 17,
   "id": "b163c901",
   "metadata": {},
   "outputs": [
    {
     "name": "stdout",
     "output_type": "stream",
     "text": [
      "20.0\n",
      "<class 'float'>\n",
      "1.0\n",
      "<class 'float'>\n"
     ]
    }
   ],
   "source": [
    "my_int, my_float = 15, 5.0\n",
    "\n",
    "c = my_int + my_float\n",
    "print(c)\n",
    "print(type(c))\n",
    "\n",
    "d = my_int / my_int\n",
    "print(d)\n",
    "print(type(d))"
   ]
  },
  {
   "cell_type": "markdown",
   "id": "dc418cec",
   "metadata": {},
   "source": [
    "Also of note, sometimes you'll get seemingly-weird results when working with floats, such as a bunch of extra decimal places."
   ]
  },
  {
   "cell_type": "code",
   "execution_count": 18,
   "id": "98135d15",
   "metadata": {},
   "outputs": [
    {
     "name": "stdout",
     "output_type": "stream",
     "text": [
      "0.30000000000000004\n"
     ]
    }
   ],
   "source": [
    "x = 0.2 + 0.1   # Should evaluate to 0.3\n",
    "print(x)"
   ]
  },
  {
   "cell_type": "markdown",
   "id": "cbeb6fc8",
   "metadata": {},
   "source": [
    "The unusual result above is a consequence of how Python represents numbers internally, and is almost totally irrelevant to any actual mathematical operations you do subsequently; Python will correctly disregard the apparent extraneous fraction."
   ]
  },
  {
   "cell_type": "code",
   "execution_count": 19,
   "id": "e378d9b7",
   "metadata": {},
   "outputs": [
    {
     "name": "stdout",
     "output_type": "stream",
     "text": [
      "1.3\n"
     ]
    }
   ],
   "source": [
    "x = x + 1\n",
    "print(x)"
   ]
  },
  {
   "cell_type": "markdown",
   "id": "6feefb21",
   "metadata": {},
   "source": [
    "#### Complex Numbers\n",
    "**Complex numbers** are those that have a \"real\" (integer or float) and \"imaginary\" component, where the \"imaginary\" component is expressed a product of *i*, the hypothetical (because imaginary) square root of -1. Python represents the imaginary number using the letter *j* instead of *i*, because the letter *i* is so commonly used as indexing (as we'll see later)."
   ]
  },
  {
   "cell_type": "code",
   "execution_count": 20,
   "id": "73458637",
   "metadata": {},
   "outputs": [
    {
     "name": "stdout",
     "output_type": "stream",
     "text": [
      "(5+2j)\n",
      "<class 'complex'>\n"
     ]
    }
   ],
   "source": [
    "# assign, print, and print type of a complex number\n",
    "x = 5 + 2j\n",
    "print(x)\n",
    "print(type(x))"
   ]
  },
  {
   "cell_type": "markdown",
   "id": "dfd76bca",
   "metadata": {},
   "source": [
    "Remember, in our previous lesson, we learned that we can call dir() on an object to see all the methods available to objects of that class. If we call dir() on the variable *x*, we can see some of the methods available for complex numbers."
   ]
  },
  {
   "cell_type": "code",
   "execution_count": 21,
   "id": "8b0ab7c0",
   "metadata": {},
   "outputs": [
    {
     "name": "stdout",
     "output_type": "stream",
     "text": [
      "['__abs__', '__add__', '__bool__', '__class__', '__delattr__', '__dir__', '__doc__', '__eq__', '__format__', '__ge__', '__getattribute__', '__getnewargs__', '__gt__', '__hash__', '__init__', '__init_subclass__', '__le__', '__lt__', '__mul__', '__ne__', '__neg__', '__new__', '__pos__', '__pow__', '__radd__', '__reduce__', '__reduce_ex__', '__repr__', '__rmul__', '__rpow__', '__rsub__', '__rtruediv__', '__setattr__', '__sizeof__', '__str__', '__sub__', '__subclasshook__', '__truediv__', 'conjugate', 'imag', 'real']\n"
     ]
    }
   ],
   "source": [
    "print(dir(x))"
   ]
  },
  {
   "cell_type": "markdown",
   "id": "d3bfb772",
   "metadata": {},
   "source": [
    "We see, toward the end of the directory for the complex variable *x*, that there are two entries: 'real' and 'imag'. If we try to call the real() method, what happens?"
   ]
  },
  {
   "cell_type": "code",
   "execution_count": 22,
   "id": "40f780f7",
   "metadata": {},
   "outputs": [
    {
     "ename": "TypeError",
     "evalue": "'float' object is not callable",
     "output_type": "error",
     "traceback": [
      "\u001b[1;31m---------------------------------------------------------------------------\u001b[0m",
      "\u001b[1;31mTypeError\u001b[0m                                 Traceback (most recent call last)",
      "Cell \u001b[1;32mIn [22], line 1\u001b[0m\n\u001b[1;32m----> 1\u001b[0m \u001b[38;5;28mprint\u001b[39m(\u001b[43mx\u001b[49m\u001b[38;5;241;43m.\u001b[39;49m\u001b[43mreal\u001b[49m\u001b[43m(\u001b[49m\u001b[43m)\u001b[49m)\n",
      "\u001b[1;31mTypeError\u001b[0m: 'float' object is not callable"
     ]
    }
   ],
   "source": [
    "print(x.real())"
   ]
  },
  {
   "cell_type": "markdown",
   "id": "3995b373",
   "metadata": {},
   "source": [
    "Interesting! The TypeError 'is not callable' error means that we used () where we shouldn't have, which means x.real is a float object, not a callable object like a function. That means x.real (and also x.imag) are not, properly speaking, methods: they're **attributes**. Attributes are to variables what methods are to functions: where methods are functions available to members of a particular class, attributes are variables which are populated the same way for members of a particular class. Specifically, in this case, the attribute real corresponds to the real-number component of x (which is 5) and the attribute imag corresponds to the imaginary-number component of x (which is 2). Attributes are called using dot-notation just like methods are, but because they aren't functions, we don't call them with parentheses; we simply name the attribute we want to use."
   ]
  },
  {
   "cell_type": "code",
   "execution_count": 23,
   "id": "af5005cb",
   "metadata": {},
   "outputs": [
    {
     "name": "stdout",
     "output_type": "stream",
     "text": [
      "5.0\n",
      "2.0\n"
     ]
    }
   ],
   "source": [
    "# print the real and imaginary portions of the variable x\n",
    "print(x.real)\n",
    "print(x.imag)"
   ]
  },
  {
   "cell_type": "markdown",
   "id": "34497c4b",
   "metadata": {},
   "source": [
    "When playing around with and exploring Python, be mindful of the distinction between attributes and methods, which both appear in the dir() listing of an object. Attributes are not callable and therefore don't need parentheses after them.\n",
    "\n",
    "#### Boolean Values\n",
    "A **Boolean** value is one that reflects the truthfulness of an expression. There are only two Boolean values: True and False. We can assign these to variables simply printing the word True or False, with the first letter capitalized and all other lower-case, without quotation-marks."
   ]
  },
  {
   "cell_type": "code",
   "execution_count": 24,
   "id": "bb8744cc",
   "metadata": {},
   "outputs": [
    {
     "name": "stdout",
     "output_type": "stream",
     "text": [
      "True\n",
      "False\n",
      "True\n"
     ]
    }
   ],
   "source": [
    "# assign three Boolean variables, then print them each\n",
    "x, y, z = True, False, True\n",
    "print(x)\n",
    "print(y)\n",
    "print(z)"
   ]
  },
  {
   "cell_type": "markdown",
   "id": "69c2c78d",
   "metadata": {},
   "source": [
    "One interesting thing about the Boolean values True and False is that they evaluate to 1 and 0, respectively. Thus, the line below returns 2 because there are two True statements."
   ]
  },
  {
   "cell_type": "code",
   "execution_count": 25,
   "id": "30f3f9bc",
   "metadata": {},
   "outputs": [
    {
     "name": "stdout",
     "output_type": "stream",
     "text": [
      "2\n"
     ]
    }
   ],
   "source": [
    "# sum the true Boolean statements\n",
    "print(x + y + z) # returns 2"
   ]
  },
  {
   "cell_type": "markdown",
   "id": "35f436ca",
   "metadata": {},
   "source": [
    "Boolean values are commonly returned by **logical operators**, which test the relationship between two or more variables."
   ]
  },
  {
   "cell_type": "code",
   "execution_count": 32,
   "id": "b404b9a7",
   "metadata": {},
   "outputs": [
    {
     "name": "stdout",
     "output_type": "stream",
     "text": [
      "a = 15.0\n",
      "b = 5.0\n",
      "========\n",
      "a > b: True\n",
      "a < b: False\n",
      "a >= b: True\n",
      "a <= b: False\n",
      "a == b: False\n",
      "a != b: True\n"
     ]
    }
   ],
   "source": [
    "print(f\"a = {a}\")\n",
    "print(f\"b = {b}\")\n",
    "print(\"=\"*8)\n",
    "print(f\"a > b: {a > b}\")    # GREATER THAN: Returns True, because 15 is greater than 5.\n",
    "print(f\"a < b: {a < b}\")    # LESS THAN: Returns False, because 15 is not less than 5.\n",
    "print(f\"a >= b: {a >= b}\")   # GREATER THAN OR EQUAL TO: Returns True, because 15 is greater than or equal to 5.\n",
    "print(f\"a <= b: {a <= b}\")   # LESS THAN OR EQUAL TO: Returns False, because 15 is not less than or equal to 5.\n",
    "print(f\"a == b: {a == b}\")   # EQUALITY: Returns False, because 15 is not equal to 5.\n",
    "print(f\"a != b: {a != b}\")   # INEQUALITY: Returns True, because 15 is not equal to 5."
   ]
  },
  {
   "cell_type": "markdown",
   "id": "af777849",
   "metadata": {},
   "source": [
    "Note that, because a single equal sign \"=\" is used to represent assignment, we have to use a double equal sign \"==\" to test for equality. Forgetting this distinction is a common source of syntax errors for new Python users!\n",
    "\n",
    "You can chain together logical operators using \"and\", \"or\", and \"not\" statements. \"and\" statements return True only if both expressions joined by the 'and' statement return True. \"or\" returns True if either of the expressions joined by the 'or' statement returns True. \"not\" is used to negate the result of a logical test, turning Trues into Falses and Falses into Trues."
   ]
  },
  {
   "cell_type": "code",
   "execution_count": 31,
   "id": "ac1b0ce4",
   "metadata": {},
   "outputs": [
    {
     "name": "stdout",
     "output_type": "stream",
     "text": [
      "False\n",
      "True\n",
      "False\n"
     ]
    }
   ],
   "source": [
    "print(a == 15 and a < b)    # Returns False because, while a is 15, it is not less than b, and \"and\" requires both conditions be True\n",
    "print(a == 15 or a < b)     # Returns True because a is, in fact, 15, and \"or\" only requires one condition to be True\n",
    "print(not a == 15)          # Returns False, because a is not not-equal to 15 (i.e., because a==15 is True, which \"not\" negates)."
   ]
  },
  {
   "cell_type": "markdown",
   "id": "052f1de4",
   "metadata": {},
   "source": [
    "\"is\" is another type of logical operator similar to \"==\", but with stricter conditions. Whereas '==' returns True if the two expressions have the same value, \"is\" returns True only if the two operations have the same object, that is, if they point to the same reserved location in memory. Consider the example below (we use the int() function to convert a number to integer form):"
   ]
  },
  {
   "cell_type": "code",
   "execution_count": 33,
   "id": "ac05103c",
   "metadata": {},
   "outputs": [
    {
     "name": "stdout",
     "output_type": "stream",
     "text": [
      "a = 15.0\n",
      "b = 5.0\n",
      "========\n",
      "True\n",
      "False\n",
      "False\n"
     ]
    }
   ],
   "source": [
    "print(f\"a = {a}\")\n",
    "print(f\"b = {b}\")\n",
    "print(\"=\"*8)\n",
    "print(a == b*3)      # Returns True, because a (15) is equal to b*3 (5*3 = 15).\n",
    "print(a is b*3)      # Returns False, because, while a and b*3 have the same value, a is an integer and b is a float, and thus they are different kinds of objects.\n",
    "print(a is int(b*3)) # Returns True, because now a and b*3 correspond to the same kind of object."
   ]
  },
  {
   "cell_type": "markdown",
   "id": "2eae4e76",
   "metadata": {},
   "source": [
    "Weirdly, though, the line below returns False:"
   ]
  },
  {
   "cell_type": "code",
   "execution_count": 34,
   "id": "f8e0ba31",
   "metadata": {},
   "outputs": [
    {
     "name": "stdout",
     "output_type": "stream",
     "text": [
      "False\n"
     ]
    }
   ],
   "source": [
    "print(float(a) is b*3)"
   ]
  },
  {
   "cell_type": "markdown",
   "id": "327dae47",
   "metadata": {},
   "source": [
    "What's going on here? Converting b\\*3 to an integer produces the same object as a, so why does converting a to a float not return the same object as b*3 does?\n",
    "\n",
    "The answer is that small integers in Python, between -5 and 256, are called singletons. To improve efficiency of memory utilization, Python allows only one object to exist for all integers between these values; any operation which would return these values actually all point to the same singleton object, rather than reserving a new location in memory."
   ]
  },
  {
   "cell_type": "code",
   "execution_count": 35,
   "id": "c5ad592c",
   "metadata": {},
   "outputs": [
    {
     "name": "stdout",
     "output_type": "stream",
     "text": [
      "True\n",
      "False\n"
     ]
    }
   ],
   "source": [
    "# x and y are singletons, and therefore point to the exact same object\n",
    "x = 15\n",
    "y = 15\n",
    "print(x is y)\n",
    "\n",
    "# now x and y are not singletons, so new locations in memory are reserved for them and they're no longer the same objects\n",
    "x = 12815\n",
    "y = 12815\n",
    "print(x is y)"
   ]
  },
  {
   "cell_type": "markdown",
   "id": "527c8ce1",
   "metadata": {},
   "source": [
    "We can test this using the id() function, which returns a unique identification value for an object stored in memory."
   ]
  },
  {
   "cell_type": "code",
   "execution_count": 39,
   "id": "d4b65899",
   "metadata": {},
   "outputs": [
    {
     "name": "stdout",
     "output_type": "stream",
     "text": [
      "x = 15, y = 15\n",
      "id of x: 3045314396848\n",
      "id of y: 3045314396848\n",
      "id of x matches id of y?: True\n",
      "\n",
      "\n",
      "x = 12815, y = 12815\n",
      "id of x: 3045405719824\n",
      "id of y: 3045405709840\n",
      "id of x matches id of y?: False\n"
     ]
    }
   ],
   "source": [
    "# x and y are singletons, so they have the same id values\n",
    "x = 15\n",
    "y = 5\n",
    "print(f\"x = {x}, y = {y}\")\n",
    "print(f\"id of x: {id(x)}\")\n",
    "print(f\"id of y: {id(y)}\")\n",
    "print(f\"id of x matches id of y?: {id(x) == id(y)}\")\n",
    "print(\"\\n\")\n",
    "\n",
    "# x and y are not singletons, so even though they have the same values, they're stored in different places in memory, and\n",
    "# their id values no longer match\n",
    "x = 12815\n",
    "y = 12815\n",
    "print(f\"x = {x}, y = {y}\")\n",
    "print(f\"id of x: {id(x)}\")\n",
    "print(f\"id of y: {id(y)}\")\n",
    "print(f\"id of x matches id of y?: {id(x) == id(y)}\")"
   ]
  },
  {
   "cell_type": "markdown",
   "id": "84c3fd72",
   "metadata": {},
   "source": [
    "But, also note, even if the values are not singleton, if they are assigned at the same time, they get the same id and thus \"is\" statements will return True!"
   ]
  },
  {
   "cell_type": "code",
   "execution_count": 40,
   "id": "3593ca36",
   "metadata": {},
   "outputs": [
    {
     "name": "stdout",
     "output_type": "stream",
     "text": [
      "x = 12815, y = 12815\n",
      "id of x: 3045405712752\n",
      "id of y: 3045405712752\n",
      "id of x matches id of y?: True\n"
     ]
    }
   ],
   "source": [
    "# x and y are not singletons, but they're assigned at the same time, so they get the same id assigned to them\n",
    "x, y = 12815, 12815\n",
    "print(f\"x = {x}, y = {y}\")\n",
    "print(f\"id of x: {id(x)}\")\n",
    "print(f\"id of y: {id(y)}\")\n",
    "print(f\"id of x matches id of y?: {id(x) == id(y)}\")"
   ]
  },
  {
   "cell_type": "markdown",
   "id": "126611e5",
   "metadata": {},
   "source": [
    "The moral of the story here is that \"is\" is not the same thing as \"==\" in Python, and you really shouldn't use \"is\" unless you're certain you know what you're doing."
   ]
  },
  {
   "cell_type": "markdown",
   "id": "98c930da",
   "metadata": {},
   "source": [
    "#### Converting Between Data Types\n",
    "Several functions are available for converting between data types. We can use the str() function to convert almost any object to a string."
   ]
  },
  {
   "cell_type": "code",
   "execution_count": 42,
   "id": "270d755f",
   "metadata": {},
   "outputs": [
    {
     "name": "stdout",
     "output_type": "stream",
     "text": [
      "15\n",
      "<class 'int'>\n",
      "\n",
      "\n",
      "15\n",
      "<class 'str'>\n"
     ]
    }
   ],
   "source": [
    "# assign, print, and print type of an integer\n",
    "a = 15\n",
    "print(a)\n",
    "print(type(a))\n",
    "print(\"\\n\")\n",
    "\n",
    "# reassign integer as a string and repeat the process\n",
    "a = str(a)\n",
    "print(a)\n",
    "print(type(a))"
   ]
  },
  {
   "cell_type": "markdown",
   "id": "6735ce87",
   "metadata": {},
   "source": [
    "Real numbers (integers and floats) can be converted freely between one another using the int() and float() functions, respectively. Be aware that applying int() to a float value that has decimal places will simply lop the decimal places off the value before storing it; it's equivalent to taking the floor of a value."
   ]
  },
  {
   "cell_type": "code",
   "execution_count": 45,
   "id": "0f470a84",
   "metadata": {},
   "outputs": [
    {
     "name": "stdout",
     "output_type": "stream",
     "text": [
      "15.1\n",
      "<class 'float'>\n",
      "\n",
      "\n",
      "15\n",
      "<class 'int'>\n",
      "\n",
      "\n",
      "15.0\n",
      "<class 'float'>\n"
     ]
    }
   ],
   "source": [
    "# assign, print, and print type of a float\n",
    "a = 15.1\n",
    "print(a)\n",
    "print(type(a))\n",
    "print(\"\\n\")\n",
    "\n",
    "# reassign float as an integer and repeat the process\n",
    "a = int(a)\n",
    "print(a)\n",
    "print(type(a))\n",
    "print(\"\\n\")\n",
    "\n",
    "# reassign back to float and repeat the process\n",
    "a = float(a)\n",
    "print(a)\n",
    "print(type(a))"
   ]
  },
  {
   "cell_type": "markdown",
   "id": "11cbed96",
   "metadata": {},
   "source": [
    "Numbers can always be converted to strings; strings can be converted to numbers only if the characters in the string reflect exclusively numerical values. Strings containing alpha characters or most special characters cannot be converted to numbers, and any attempt to do so will raise a ValueError."
   ]
  },
  {
   "cell_type": "code",
   "execution_count": 47,
   "id": "23e9a6b7",
   "metadata": {},
   "outputs": [
    {
     "name": "stdout",
     "output_type": "stream",
     "text": [
      "15\n",
      "15.0\n"
     ]
    }
   ],
   "source": [
    "# convert a string to an integer and a float\n",
    "x = '15'\n",
    "new_x = int(x)\n",
    "newer_x = float(x)\n",
    "print(new_x)\n",
    "print(newer_x)"
   ]
  },
  {
   "cell_type": "code",
   "execution_count": 48,
   "id": "d90b0be7",
   "metadata": {},
   "outputs": [
    {
     "ename": "ValueError",
     "evalue": "invalid literal for int() with base 10: '15 years old'",
     "output_type": "error",
     "traceback": [
      "\u001b[1;31m---------------------------------------------------------------------------\u001b[0m",
      "\u001b[1;31mValueError\u001b[0m                                Traceback (most recent call last)",
      "Cell \u001b[1;32mIn [48], line 3\u001b[0m\n\u001b[0;32m      1\u001b[0m \u001b[38;5;66;03m# convert a non-numeric string to an integer\u001b[39;00m\n\u001b[0;32m      2\u001b[0m x \u001b[38;5;241m=\u001b[39m \u001b[38;5;124m'\u001b[39m\u001b[38;5;124m15 years old\u001b[39m\u001b[38;5;124m'\u001b[39m\n\u001b[1;32m----> 3\u001b[0m new_x \u001b[38;5;241m=\u001b[39m \u001b[38;5;28;43mint\u001b[39;49m\u001b[43m(\u001b[49m\u001b[43mx\u001b[49m\u001b[43m)\u001b[49m\n",
      "\u001b[1;31mValueError\u001b[0m: invalid literal for int() with base 10: '15 years old'"
     ]
    }
   ],
   "source": [
    "# (try to) convert a non-numeric string to an integer\n",
    "x = '15 years old'\n",
    "new_x = int(x)"
   ]
  },
  {
   "cell_type": "markdown",
   "id": "6ac482f5",
   "metadata": {},
   "source": [
    "Complex numbers can't be converted to integers or floats at all, and any attempt to do so will raise a TypeError.\n",
    "\n",
    "Variables of any kind can always be converted to Boolean values using the bool() function. Values will be converted to False if they are empty for that class type (0 for integers, '' for strings, etc.) and True otherwise."
   ]
  },
  {
   "cell_type": "code",
   "execution_count": 51,
   "id": "851c2034",
   "metadata": {},
   "outputs": [
    {
     "name": "stdout",
     "output_type": "stream",
     "text": [
      "False\n",
      "False\n",
      "False\n",
      "True\n",
      "True\n",
      "True\n"
     ]
    }
   ],
   "source": [
    "print(bool(0))    # Returns False: 0 is an empty integer\n",
    "print(bool(0.0))  # Returns False: 0.0 is an empty float\n",
    "print(bool(''))   # Returns False: '' is an empty string\n",
    "\n",
    "print(bool(5))    # Returns True\n",
    "print(bool(-3.1)) # Returns True\n",
    "print(bool('hi')) # Returns True"
   ]
  },
  {
   "cell_type": "markdown",
   "id": "ec192caf",
   "metadata": {},
   "source": [
    "#### Assignment Operators\n",
    "Certain operators allow you to apply mathematical operations directly to a value inside a variable and assign the result to that same variable. These are done by adding the equal sign '=' after any of the mathematical operators."
   ]
  },
  {
   "cell_type": "code",
   "execution_count": 52,
   "id": "c766bdd0",
   "metadata": {},
   "outputs": [
    {
     "name": "stdout",
     "output_type": "stream",
     "text": [
      "7\n",
      "3\n",
      "45\n",
      "9.0\n",
      "81.0\n",
      "1.0\n"
     ]
    }
   ],
   "source": [
    "x = 5\n",
    "\n",
    "x += 2     # Adds 2 to whatever is currently in x (5) and assigns the result (7) to x.\n",
    "print(x)   # prints 7\n",
    "\n",
    "x -= 4     # Subtracts 4 from x (7) and assigns the result (3) to x.\n",
    "print(x)   # prints 3\n",
    "\n",
    "x *= 15    # Multiplies x (3) by 15 and assigns the result (45) to x.\n",
    "print(x)   # prints 45\n",
    "\n",
    "x /= 5     # Divides x (45) by 5 and assigns the result (9) to x.\n",
    "print(x)   # prints 9.0\n",
    "\n",
    "x **= 2    # Squares x (9) and assigns the result (81) to x.\n",
    "print(x)   # prints 81.0\n",
    "\n",
    "x %= 2     # Attempts to divide x (81) by 2 and assigns the remainder (1) to x.\n",
    "print(x)   # prints 1.0"
   ]
  },
  {
   "cell_type": "markdown",
   "id": "446244e2",
   "metadata": {},
   "source": [
    "When used on strings, the \"+=\" operator adds on to the end of an existing string without reassignment."
   ]
  },
  {
   "cell_type": "code",
   "execution_count": 53,
   "id": "024fd95f",
   "metadata": {},
   "outputs": [
    {
     "name": "stdout",
     "output_type": "stream",
     "text": [
      "Hello\n",
      "Hello world!\n"
     ]
    }
   ],
   "source": [
    "a = \"Hello\"\n",
    "print(a)\n",
    "\n",
    "a += \" world!\"\n",
    "print(a)"
   ]
  },
  {
   "cell_type": "markdown",
   "id": "c9bb8a5e",
   "metadata": {},
   "source": [
    "#### Best Practice Notes about Formatting\n",
    "It's good practice to document your code by adding **comments** or, in some cases **docstrings**.\n",
    "\n",
    "A comment is a line of code prefaced with at least one hashtag (#). The hashtag \"comments out\" the line, instructing Python not to execute anything on the line following the hashtag. If a hashtag is inserted mid-line, Python will still run everything before the hashtag as code. A hashtag only comments out the remainder of the line; if you have a comment that must extend across more than one line, you'll need to comment out the line following, as well."
   ]
  },
  {
   "cell_type": "code",
   "execution_count": 54,
   "id": "813e1a0c",
   "metadata": {},
   "outputs": [
    {
     "name": "stdout",
     "output_type": "stream",
     "text": [
      "5\n"
     ]
    }
   ],
   "source": [
    "# This line is a comment; Python will not attempt to execute it.\n",
    "x = 5   # This is a mid-line comment; Python will still assign 5 to x, but everything after the hashtag is ignored.\n",
    "print(x)\n",
    "\n",
    "# This is a comment which, being very long, extends multiple lines.\n",
    "# As such, it's necessary to hashtag out each line.\n",
    "# As you can see, when executing this cell, Python simply ignores commented-out lines.\n",
    "# You can comment out suspect lines of code without deleting it to see how Python handles that line's absence."
   ]
  },
  {
   "cell_type": "markdown",
   "id": "afa6bc92",
   "metadata": {},
   "source": [
    "A docstring is like a comment, but it's set off with three quotation marks and closed with another three quotation marks (single or double quotation marks are fine, as long as the use is consistent; however, double-quotation marks are considered preferable). Docstrings can thus extend multiple lines. Python has special functions which collect all the docstrings in a Python file and compile documentation automatically based on them, which is useful if you intend to upload a program to a central repository such as PyPI, the Python Package Index. We'll talk more about using docstrings appropriately later on: for now, just understand that they are effectively ways to write multi-line comments."
   ]
  },
  {
   "cell_type": "code",
   "execution_count": 55,
   "id": "ddd8a2a3",
   "metadata": {},
   "outputs": [
    {
     "name": "stdout",
     "output_type": "stream",
     "text": [
      "20\n"
     ]
    }
   ],
   "source": [
    "\"\"\"\n",
    "    This is a docstring.\n",
    "    The program below takes two numbers and prints their sum.\n",
    "    It takes no arguments.\n",
    "    Program written by Sean Wisnieski on December 28, 2024.\n",
    "\"\"\"\n",
    "\n",
    "a, b = 15, 5\n",
    "print(a+b)"
   ]
  },
  {
   "cell_type": "markdown",
   "id": "d9450a1b",
   "metadata": {},
   "source": [
    "Finally, it's best practice to name variables containing constants -- that is, variabels the values of which are not able to change -- in capital letters."
   ]
  },
  {
   "cell_type": "code",
   "execution_count": 56,
   "id": "f0eade6b",
   "metadata": {},
   "outputs": [
    {
     "name": "stdout",
     "output_type": "stream",
     "text": [
      "2.71828183\n"
     ]
    }
   ],
   "source": [
    "EULERS_NUMBER = 2.71828183\n",
    "print(EULERS_NUMBER)"
   ]
  },
  {
   "cell_type": "markdown",
   "id": "b0e99c1f",
   "metadata": {},
   "source": [
    "### Conclusion\n",
    "In this lesson, we built on what we learned previously, learning about new data types like integers, floats, complex numbers, and Boolean values, as well as learning about attributes, logical operators, and certain best practices. In our next session, we'll review another type of object in Python: iterables like lists and tuples, which are simply collections of objects."
   ]
  },
  {
   "cell_type": "markdown",
   "id": "b88f9f0a",
   "metadata": {},
   "source": [
    "### Vocabulary Covered in This Lesson\n",
    "\n",
    "* **Integer**: A type of object representing whole numbers, such as 2 or -7.\n",
    "* **Float**: A type of object representing fractional numbers, such as 2.01 or -7.58.\n",
    "* **Complex Number**: A type of object representing numbers with real and imaginary components, such as 5 + 2i, where i is the imaginary square root of -1.\n",
    "* **Attributes**: A variable that belongs to a class, such that all members of the class have access to the same attribute. For instance, the class of complex numbers have attributes \"real\" (corresponding to the real number portion of the number) and \"imag\" (corresponding to the imaginary number portion of the number). Attributes are called using dot-notation, like with methods, but without parentheses, e.g., \"my_complex_number.real\".\n",
    "* **Boolean**: A type of representing truthfulness or falsehood, i.e., True or False; commonly returned by logical operators.\n",
    "* **Logical Operator**: A special type of operator which compares two variables (e.g., \"x > y\" to test if x is greater than y) and returns True or False.\n",
    "* **Comment**: A line or portion of a line of code set apart from the rest with a hashtag '#', which will Python will not attempt to execute.\n",
    "* **Docstring**: Essentially a multi-line comment, also set apart from execution, but opened and closed with a set of three quotation-marks."
   ]
  },
  {
   "cell_type": "markdown",
   "id": "aafb873b",
   "metadata": {},
   "source": [
    "### A Short Exercise\n",
    "\n",
    "Your task is to edit **the below print statement only**, and to do so **by making one single change** (either adding or deleting a word or changing one sign), so that the statement prints False instead of True. Note that there are multiple ways to make this happen - as a bonus, see if you can identify all of them!"
   ]
  },
  {
   "cell_type": "code",
   "execution_count": 60,
   "id": "4d7e0e7f",
   "metadata": {},
   "outputs": [
    {
     "name": "stdout",
     "output_type": "stream",
     "text": [
      "True\n"
     ]
    }
   ],
   "source": [
    "a = 15\n",
    "b = 5\n",
    "\n",
    "print(a == 15 and b < 10 and (a*b) != 400)"
   ]
  },
  {
   "cell_type": "code",
   "execution_count": null,
   "id": "94ef19a5",
   "metadata": {},
   "outputs": [],
   "source": []
  }
 ],
 "metadata": {
  "kernelspec": {
   "display_name": "Python 3 (ipykernel)",
   "language": "python",
   "name": "python3"
  },
  "language_info": {
   "codemirror_mode": {
    "name": "ipython",
    "version": 3
   },
   "file_extension": ".py",
   "mimetype": "text/x-python",
   "name": "python",
   "nbconvert_exporter": "python",
   "pygments_lexer": "ipython3",
   "version": "3.10.6"
  }
 },
 "nbformat": 4,
 "nbformat_minor": 5
}
